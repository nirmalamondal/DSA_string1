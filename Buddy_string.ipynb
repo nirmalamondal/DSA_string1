'''Given two strings s and goal, return true if you can swap two letters in s so the result is equal to goal, otherwise, return false.

Swapping letters is defined as taking two indices i and j (0-indexed) such that i != j and swapping the characters at s[i] and s[j].

For example, swapping at indices 0 and 2 in "abcd" results in "cbad". '''


class Solution:
    def buddyStrings(self, s: str, goal: str) -> bool:
        
        if len(s) != len(goal):
            return False
        diff = []
        for i in range(len(s)):
            if s[i] != goal[i]:
                diff.append(i)
                if len(diff) > 2:
                    return False

        if len(diff) == 0:
            return len(set(s)) < len(s)

        if len(diff) == 2:
            i, j = diff
            return s[i] == goal[j] and s[j] == goal[i]

        return False
